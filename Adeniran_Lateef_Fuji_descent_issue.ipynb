{
  "nbformat": 4,
  "nbformat_minor": 0,
  "metadata": {
    "colab": {
      "provenance": [],
      "mount_file_id": "1kxJPpnXy3UyCwQ-Vbv8MyWR789IDlfaO",
      "authorship_tag": "ABX9TyNf/x3sQTXEKR/fQXjDHPTA",
      "include_colab_link": true
    },
    "kernelspec": {
      "name": "python3",
      "display_name": "Python 3"
    },
    "language_info": {
      "name": "python"
    }
  },
  "cells": [
    {
      "cell_type": "markdown",
      "metadata": {
        "id": "view-in-github",
        "colab_type": "text"
      },
      "source": [
        "<a href=\"https://colab.research.google.com/github/apolloadeniran/Assignment/blob/main/Adeniran_Lateef_Fuji_descent_issue.ipynb\" target=\"_parent\"><img src=\"https://colab.research.google.com/assets/colab-badge.svg\" alt=\"Open In Colab\"/></a>"
      ]
    },
    {
      "cell_type": "code",
      "source": [
        "import numpy as np\n",
        "csv_path = mtfuji_data (1).csv\n",
        "csv\n",
        "\n",
        "np.set_printoptions(suppress=True)\n",
        "fuji = np.loadtxt(csv_path, delimiter=\",\", skiprows=1)\n",
        "print(fuji[130:140])"
      ],
      "metadata": {
        "id": "tPjkPk7GwM8L"
      },
      "execution_count": null,
      "outputs": []
    },
    {
      "cell_type": "code",
      "source": [
        "file = open(\"mtfuji_data (1).csv\")\n",
        " for i in file:\n",
        "print(i)\n",
        "\n"
      ],
      "metadata": {
        "colab": {
          "base_uri": "https://localhost:8080/",
          "height": 144
        },
        "id": "fDPP24wD5FP3",
        "outputId": "1d61758c-0ab9-48c8-cd99-58cbc9e4d97f"
      },
      "execution_count": null,
      "outputs": [
        {
          "output_type": "error",
          "ename": "IndentationError",
          "evalue": "ignored",
          "traceback": [
            "\u001b[0;36m  File \u001b[0;32m\"<ipython-input-10-3bb0a018c6ad>\"\u001b[0;36m, line \u001b[0;32m2\u001b[0m\n\u001b[0;31m    for i in file:\u001b[0m\n\u001b[0m    ^\u001b[0m\n\u001b[0;31mIndentationError\u001b[0m\u001b[0;31m:\u001b[0m unexpected indent\n"
          ]
        }
      ]
    },
    {
      "cell_type": "code",
      "source": [
        "import numpy as np\n",
        "\n",
        "csv_path = \"mtfuji_data.csv\" # Specify the file name (path)\n",
        "\n",
        "np.set_printoptions(suppress=True) # Set prohibition of scientific notation\n",
        "fuji = np.loadtxt(csv_path, delimiter=\",\", skiprows=1)\n",
        "print(fuji[130:140])"
      ],
      "metadata": {
        "id": "Q1s1MINfztlI"
      },
      "execution_count": null,
      "outputs": []
    },
    {
      "cell_type": "markdown",
      "source": [
        "###Problem 1. Data visualization"
      ],
      "metadata": {
        "id": "0KcsR7DwNW6-"
      }
    },
    {
      "cell_type": "code",
      "source": [
        "import numpy as np\n",
        "\n",
        "csv_path = \"mtfuji_data.csv\" # Specify the file name (path)\n",
        "\n",
        "\n"
      ],
      "metadata": {
        "id": "_ZaMZQF6OjCJ"
      },
      "execution_count": null,
      "outputs": []
    }
  ]
}