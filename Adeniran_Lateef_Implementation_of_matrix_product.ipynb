{
  "nbformat": 4,
  "nbformat_minor": 0,
  "metadata": {
    "colab": {
      "provenance": [],
      "authorship_tag": "ABX9TyOYJnov23hV+yI8vivyaz8A",
      "include_colab_link": true
    },
    "kernelspec": {
      "name": "python3",
      "display_name": "Python 3"
    },
    "language_info": {
      "name": "python"
    }
  },
  "cells": [
    {
      "cell_type": "markdown",
      "metadata": {
        "id": "view-in-github",
        "colab_type": "text"
      },
      "source": [
        "<a href=\"https://colab.research.google.com/github/apolloadeniran/Assignment/blob/main/Adeniran_Lateef_Implementation_of_matrix_product.ipynb\" target=\"_parent\"><img src=\"https://colab.research.google.com/assets/colab-badge.svg\" alt=\"Open In Colab\"/></a>"
      ]
    },
    {
      "cell_type": "markdown",
      "source": [
        "###Problem 1. Matrix product is calculated manually"
      ],
      "metadata": {
        "id": "IwfV79aHnnuu"
      }
    },
    {
      "cell_type": "markdown",
      "source": [
        "![matrix png.png](data:image/png;base64,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)"
      ],
      "metadata": {
        "id": "eZ-j0juJKr0d"
      }
    },
    {
      "cell_type": "markdown",
      "source": [
        "###Problem 2. Calculation by NumPy function"
      ],
      "metadata": {
        "id": "JtxldcEuYn8-"
      }
    },
    {
      "cell_type": "markdown",
      "source": [
        "Using matmul()"
      ],
      "metadata": {
        "id": "wc4ywdYcZF4d"
      }
    },
    {
      "cell_type": "code",
      "source": [
        "import numpy as np\n",
        "a_ndarray = np.array([[-1, 2, 3], [4, -5, 6], [7, 8, -9]])\n",
        "b_ndarray = np.array([[0, 2, 1], [0, 2, -8], [2, 9, -1]])\n",
        "ab_ndarray = np.matmul(a_ndarray, b_ndarray)\n",
        "print(ab_ndarray)"
      ],
      "metadata": {
        "colab": {
          "base_uri": "https://localhost:8080/"
        },
        "id": "DBm8Wd5dYr1F",
        "outputId": "6bdcd744-c00b-47d6-8786-9acf2efc7d7c"
      },
      "execution_count": null,
      "outputs": [
        {
          "output_type": "stream",
          "name": "stdout",
          "text": [
            "[[  6  29 -20]\n",
            " [ 12  52  38]\n",
            " [-18 -51 -48]]\n"
          ]
        }
      ]
    },
    {
      "cell_type": "markdown",
      "source": [
        "Using dot"
      ],
      "metadata": {
        "id": "XvRZMMlhaD4g"
      }
    },
    {
      "cell_type": "code",
      "source": [
        "import numpy as np\n",
        "a_ndarray = np.array([[-1, 2, 3], [4, -5, 6], [7, 8, -9]])\n",
        "b_ndarray = np.array([[0, 2, 1], [0, 2, -8], [2, 9, -1]])\n",
        "ab_ndarray = np.dot(a_ndarray, b_ndarray)\n",
        "print(ab_ndarray)"
      ],
      "metadata": {
        "colab": {
          "base_uri": "https://localhost:8080/"
        },
        "id": "ArfV6rjDaPZV",
        "outputId": "868c86b8-5bda-4bb6-8ee6-743ea1d77978"
      },
      "execution_count": null,
      "outputs": [
        {
          "output_type": "stream",
          "name": "stdout",
          "text": [
            "[[  6  29 -20]\n",
            " [ 12  52  38]\n",
            " [-18 -51 -48]]\n"
          ]
        }
      ]
    },
    {
      "cell_type": "markdown",
      "source": [
        "###Problem 3. Implementation of calculation of a certain element"
      ],
      "metadata": {
        "id": "L_mGmntWbCGy"
      }
    },
    {
      "cell_type": "markdown",
      "source": [
        "1. Multiply the (0,0) element $a_{0, 0}$ of matrix A with the (0,0) element $b_{0, 0}$ of matrix B"
      ],
      "metadata": {
        "id": "7tj7nCwwbRHk"
      }
    },
    {
      "cell_type": "code",
      "source": [
        "ab = (a_ndarray[0][0]*b_ndarray[0][0])\n",
        "ab"
      ],
      "metadata": {
        "colab": {
          "base_uri": "https://localhost:8080/"
        },
        "id": "cCkMhr-ZbOZq",
        "outputId": "f35ee995-6d1a-42f6-c2df-c9105edf3098"
      },
      "execution_count": null,
      "outputs": [
        {
          "output_type": "execute_result",
          "data": {
            "text/plain": [
              "0"
            ]
          },
          "metadata": {},
          "execution_count": 10
        }
      ]
    },
    {
      "cell_type": "markdown",
      "source": [
        "2. Multiply the (0,1) element $a_{0, 1}$ of matrix A with the (1,0) element $b_{1, 0}$ of matrix B"
      ],
      "metadata": {
        "id": "bxqxPV7GcOMv"
      }
    },
    {
      "cell_type": "code",
      "source": [
        "ab = (a_ndarray[0][1]*b_ndarray[1][0])\n",
        "ab"
      ],
      "metadata": {
        "colab": {
          "base_uri": "https://localhost:8080/"
        },
        "id": "R3fGfdV2cP-u",
        "outputId": "745460ad-af0a-43b3-83c1-f0847d721f9e"
      },
      "execution_count": null,
      "outputs": [
        {
          "output_type": "execute_result",
          "data": {
            "text/plain": [
              "0"
            ]
          },
          "metadata": {},
          "execution_count": 11
        }
      ]
    },
    {
      "cell_type": "markdown",
      "source": [
        "3. Multiply the (0,2) element $a_{0, 2}$ of matrix A with the (2,0) element $b_{2, 0}$ of matrix B"
      ],
      "metadata": {
        "id": "oYzXlZptctX8"
      }
    },
    {
      "cell_type": "code",
      "source": [
        "ab = (a_ndarray[0][2]*b_ndarray[2][0])\n",
        "ab"
      ],
      "metadata": {
        "colab": {
          "base_uri": "https://localhost:8080/"
        },
        "id": "PIZqz8-0cw9c",
        "outputId": "808aa2f3-d294-4e18-bc64-b219947eb788"
      },
      "execution_count": null,
      "outputs": [
        {
          "output_type": "execute_result",
          "data": {
            "text/plain": [
              "6"
            ]
          },
          "metadata": {},
          "execution_count": 12
        }
      ]
    },
    {
      "cell_type": "markdown",
      "source": [
        "3. Add all those values together"
      ],
      "metadata": {
        "id": "tYq_WptOdmGp"
      }
    },
    {
      "cell_type": "code",
      "source": [
        "sum_ab = (a_ndarray[0][0]*b_ndarray[0][0]+a_ndarray[0][1]*b_ndarray[1][0]+a_ndarray[0][2]*b_ndarray[2][0])\n",
        "sum_ab"
      ],
      "metadata": {
        "colab": {
          "base_uri": "https://localhost:8080/"
        },
        "id": "nHDnmaRadpUB",
        "outputId": "ebae4227-7117-4f09-df9e-5ff21a6fb788"
      },
      "execution_count": null,
      "outputs": [
        {
          "output_type": "execute_result",
          "data": {
            "text/plain": [
              "6"
            ]
          },
          "metadata": {},
          "execution_count": 13
        }
      ]
    },
    {
      "cell_type": "markdown",
      "source": [
        "###Problem 4. Creating a function that performs matrix multiplication"
      ],
      "metadata": {
        "id": "w7JVOlv8ebpz"
      }
    },
    {
      "cell_type": "code",
      "source": [
        "def product_of_matrix(a,b):\n",
        "    matrix_ab = np.empty([3,3])\n",
        "    for row1 in range(a.shape[0]):\n",
        "        for column1 in range(b.shape[1]):\n",
        "            matrix_ab[row1][column1] = sum(a[row1, 1]*b[:, column1])\n",
        "    return matrix_ab\n",
        "print(product_of_matrix(a_ndarray, b_ndarray))\n",
        "\n"
      ],
      "metadata": {
        "colab": {
          "base_uri": "https://localhost:8080/"
        },
        "id": "DlYEp1ksegnm",
        "outputId": "0e95011b-d88a-417f-ef4b-045f77c5d9e2"
      },
      "execution_count": null,
      "outputs": [
        {
          "output_type": "stream",
          "name": "stdout",
          "text": [
            "[[  4.  26. -16.]\n",
            " [-10. -65.  40.]\n",
            " [ 16. 104. -64.]]\n"
          ]
        }
      ]
    },
    {
      "cell_type": "markdown",
      "source": [
        "###Problem 5. Judge the input whose calculation is not defined"
      ],
      "metadata": {
        "id": "k7LdrEH3mdQy"
      }
    },
    {
      "cell_type": "code",
      "source": [
        "\n",
        "d_ndarray = np.array([[-1, 2, 3], [4, -5, 6]])\n",
        "e_ndarray = np.array([[-9, 8, 7], [6, -5, 4]])\n",
        "if d_ndarray.shape[0] == d_ndarray.shape[1]:\n",
        "   print(product_of_matrix(a_ndarray, b_ndarray))\n",
        "else:\n",
        "    print(\"matrix are not aligned\")"
      ],
      "metadata": {
        "colab": {
          "base_uri": "https://localhost:8080/"
        },
        "id": "L6shMgHPmVyQ",
        "outputId": "9f8c07e9-b29a-48a7-f86a-7d7ee17881c7"
      },
      "execution_count": null,
      "outputs": [
        {
          "output_type": "stream",
          "name": "stdout",
          "text": [
            "matrix are not aligned\n"
          ]
        }
      ]
    },
    {
      "cell_type": "markdown",
      "source": [
        "###Problem 6. Transposition"
      ],
      "metadata": {
        "id": "ezXhLdHopVzo"
      }
    },
    {
      "cell_type": "code",
      "source": [
        "z = d_ndarray.T\n",
        "print(product_of_matrix(z, e_ndarray))\n"
      ],
      "metadata": {
        "colab": {
          "base_uri": "https://localhost:8080/"
        },
        "id": "AY00YnGhpcyc",
        "outputId": "d55fe4ba-bdee-4f44-8e5c-0256bc2b9c61"
      },
      "execution_count": null,
      "outputs": [
        {
          "output_type": "stream",
          "name": "stdout",
          "text": [
            "[[-12.  12.  44.]\n",
            " [ 15. -15. -55.]\n",
            " [-18.  18.  66.]]\n"
          ]
        }
      ]
    }
  ]
}