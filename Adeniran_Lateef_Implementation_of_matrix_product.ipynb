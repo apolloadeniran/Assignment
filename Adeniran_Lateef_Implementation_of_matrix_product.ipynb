{
  "nbformat": 4,
  "nbformat_minor": 0,
  "metadata": {
    "colab": {
      "provenance": [],
      "authorship_tag": "ABX9TyP+AxaSNjXEzSp4Fx2i4S5Z",
      "include_colab_link": true
    },
    "kernelspec": {
      "name": "python3",
      "display_name": "Python 3"
    },
    "language_info": {
      "name": "python"
    }
  },
  "cells": [
    {
      "cell_type": "markdown",
      "metadata": {
        "id": "view-in-github",
        "colab_type": "text"
      },
      "source": [
        "<a href=\"https://colab.research.google.com/github/apolloadeniran/Assignment/blob/main/Adeniran_Lateef_Implementation_of_matrix_product.ipynb\" target=\"_parent\"><img src=\"https://colab.research.google.com/assets/colab-badge.svg\" alt=\"Open In Colab\"/></a>"
      ]
    },
    {
      "cell_type": "markdown",
      "source": [
        "Matrix problem is calculated manually"
      ],
      "metadata": {
        "id": "IwfV79aHnnuu"
      }
    },
    {
      "cell_type": "code",
      "source": [
        "import numpy as np\n",
        "a_ndarray = np.array([[-1, 2, 3], [4, -5, 6], [7, 8, -9]])\n",
        "b_ndarray = np.array([[0, 2, 1], [0, 2, -8], [2, 9, -1]])\n",
        "c_array = a_ndarray * b_ndarray\n",
        "print(c_array)\n"
      ],
      "metadata": {
        "colab": {
          "base_uri": "https://localhost:8080/"
        },
        "id": "mn85FSuBomph",
        "outputId": "08bab234-cb7b-40b9-ce39-76f94fe6f950"
      },
      "execution_count": 7,
      "outputs": [
        {
          "output_type": "stream",
          "name": "stdout",
          "text": [
            "[[  0   4   3]\n",
            " [  0 -10 -48]\n",
            " [ 14  72   9]]\n"
          ]
        }
      ]
    },
    {
      "cell_type": "markdown",
      "source": [
        "###Problem 2. Calculation by NumPy function"
      ],
      "metadata": {
        "id": "JtxldcEuYn8-"
      }
    },
    {
      "cell_type": "markdown",
      "source": [
        "Using matmul()"
      ],
      "metadata": {
        "id": "wc4ywdYcZF4d"
      }
    },
    {
      "cell_type": "code",
      "source": [
        "import numpy as np\n",
        "a_ndarray = np.array([[-1, 2, 3], [4, -5, 6], [7, 8, -9]])\n",
        "b_ndarray = np.array([[0, 2, 1], [0, 2, -8], [2, 9, -1]])\n",
        "ab_ndarray = np.matmul(a_ndarray, b_ndarray)\n",
        "print(ab_ndarray)"
      ],
      "metadata": {
        "colab": {
          "base_uri": "https://localhost:8080/"
        },
        "id": "DBm8Wd5dYr1F",
        "outputId": "6bdcd744-c00b-47d6-8786-9acf2efc7d7c"
      },
      "execution_count": 8,
      "outputs": [
        {
          "output_type": "stream",
          "name": "stdout",
          "text": [
            "[[  6  29 -20]\n",
            " [ 12  52  38]\n",
            " [-18 -51 -48]]\n"
          ]
        }
      ]
    },
    {
      "cell_type": "markdown",
      "source": [
        "Using dot"
      ],
      "metadata": {
        "id": "XvRZMMlhaD4g"
      }
    },
    {
      "cell_type": "code",
      "source": [
        "import numpy as np\n",
        "a_ndarray = np.array([[-1, 2, 3], [4, -5, 6], [7, 8, -9]])\n",
        "b_ndarray = np.array([[0, 2, 1], [0, 2, -8], [2, 9, -1]])\n",
        "ab_ndarray = np.dot(a_ndarray, b_ndarray)\n",
        "print(ab_ndarray)"
      ],
      "metadata": {
        "colab": {
          "base_uri": "https://localhost:8080/"
        },
        "id": "ArfV6rjDaPZV",
        "outputId": "868c86b8-5bda-4bb6-8ee6-743ea1d77978"
      },
      "execution_count": 9,
      "outputs": [
        {
          "output_type": "stream",
          "name": "stdout",
          "text": [
            "[[  6  29 -20]\n",
            " [ 12  52  38]\n",
            " [-18 -51 -48]]\n"
          ]
        }
      ]
    },
    {
      "cell_type": "markdown",
      "source": [
        "###Problem 3. Implementation of calculation of a certain element"
      ],
      "metadata": {
        "id": "L_mGmntWbCGy"
      }
    },
    {
      "cell_type": "markdown",
      "source": [
        "1. Multiply the (0,0) element $a_{0, 0}$ of matrix A with the (0,0) element $b_{0, 0}$ of matrix B"
      ],
      "metadata": {
        "id": "7tj7nCwwbRHk"
      }
    },
    {
      "cell_type": "code",
      "source": [
        "ab = (a_ndarray[0][0]*b_ndarray[0][0])\n",
        "ab"
      ],
      "metadata": {
        "colab": {
          "base_uri": "https://localhost:8080/"
        },
        "id": "cCkMhr-ZbOZq",
        "outputId": "f35ee995-6d1a-42f6-c2df-c9105edf3098"
      },
      "execution_count": 10,
      "outputs": [
        {
          "output_type": "execute_result",
          "data": {
            "text/plain": [
              "0"
            ]
          },
          "metadata": {},
          "execution_count": 10
        }
      ]
    },
    {
      "cell_type": "markdown",
      "source": [
        "2. Multiply the (0,1) element $a_{0, 1}$ of matrix A with the (1,0) element $b_{1, 0}$ of matrix B"
      ],
      "metadata": {
        "id": "bxqxPV7GcOMv"
      }
    },
    {
      "cell_type": "code",
      "source": [
        "ab = (a_ndarray[0][1]*b_ndarray[1][0])\n",
        "ab"
      ],
      "metadata": {
        "colab": {
          "base_uri": "https://localhost:8080/"
        },
        "id": "R3fGfdV2cP-u",
        "outputId": "745460ad-af0a-43b3-83c1-f0847d721f9e"
      },
      "execution_count": 11,
      "outputs": [
        {
          "output_type": "execute_result",
          "data": {
            "text/plain": [
              "0"
            ]
          },
          "metadata": {},
          "execution_count": 11
        }
      ]
    },
    {
      "cell_type": "markdown",
      "source": [
        "3. Multiply the (0,2) element $a_{0, 2}$ of matrix A with the (2,0) element $b_{2, 0}$ of matrix B"
      ],
      "metadata": {
        "id": "oYzXlZptctX8"
      }
    },
    {
      "cell_type": "code",
      "source": [
        "ab = (a_ndarray[0][2]*b_ndarray[2][0])\n",
        "ab"
      ],
      "metadata": {
        "colab": {
          "base_uri": "https://localhost:8080/"
        },
        "id": "PIZqz8-0cw9c",
        "outputId": "808aa2f3-d294-4e18-bc64-b219947eb788"
      },
      "execution_count": 12,
      "outputs": [
        {
          "output_type": "execute_result",
          "data": {
            "text/plain": [
              "6"
            ]
          },
          "metadata": {},
          "execution_count": 12
        }
      ]
    },
    {
      "cell_type": "markdown",
      "source": [
        "3. Add all those values together"
      ],
      "metadata": {
        "id": "tYq_WptOdmGp"
      }
    },
    {
      "cell_type": "code",
      "source": [
        "sum_ab = (a_ndarray[0][0]*b_ndarray[0][0]+a_ndarray[0][1]*b_ndarray[1][0]+a_ndarray[0][2]*b_ndarray[2][0])\n",
        "sum_ab"
      ],
      "metadata": {
        "colab": {
          "base_uri": "https://localhost:8080/"
        },
        "id": "nHDnmaRadpUB",
        "outputId": "ebae4227-7117-4f09-df9e-5ff21a6fb788"
      },
      "execution_count": 13,
      "outputs": [
        {
          "output_type": "execute_result",
          "data": {
            "text/plain": [
              "6"
            ]
          },
          "metadata": {},
          "execution_count": 13
        }
      ]
    },
    {
      "cell_type": "markdown",
      "source": [
        "###Problem 4. Creating a function that performs matrix multiplication"
      ],
      "metadata": {
        "id": "w7JVOlv8ebpz"
      }
    },
    {
      "cell_type": "code",
      "source": [
        "def product_of_matrix(a,b):\n",
        "    matrix_ab = np.empty([3,3])\n",
        "    for row1 in range(a.shape[0]):\n",
        "        for column1 in range(b.shape[1]):\n",
        "            matrix_ab[row1][column1] = sum(a[row1, 1]*b[:, column1])\n",
        "    return matrix_ab\n",
        "print(product_of_matrix(a_ndarray, b_ndarray))\n",
        "\n",
        ""
      ],
      "metadata": {
        "colab": {
          "base_uri": "https://localhost:8080/"
        },
        "id": "DlYEp1ksegnm",
        "outputId": "0e95011b-d88a-417f-ef4b-045f77c5d9e2"
      },
      "execution_count": 17,
      "outputs": [
        {
          "output_type": "stream",
          "name": "stdout",
          "text": [
            "[[  4.  26. -16.]\n",
            " [-10. -65.  40.]\n",
            " [ 16. 104. -64.]]\n"
          ]
        }
      ]
    },
    {
      "cell_type": "markdown",
      "source": [
        "###Problem 5. Judge the input whose calculation is not defined"
      ],
      "metadata": {
        "id": "k7LdrEH3mdQy"
      }
    },
    {
      "cell_type": "code",
      "source": [
        "\n",
        "d_ndarray = np.array([[-1, 2, 3], [4, -5, 6]])\n",
        "e_ndarray = np.array([[-9, 8, 7], [6, -5, 4]])\n",
        "if d_ndarray.shape[0] == d_ndarray.shape[1]:\n",
        "   print(product_of_matrix(a_ndarray, b_ndarray))\n",
        "else:\n",
        "    print(\"matrix are not aligned\")"
      ],
      "metadata": {
        "colab": {
          "base_uri": "https://localhost:8080/"
        },
        "id": "L6shMgHPmVyQ",
        "outputId": "9f8c07e9-b29a-48a7-f86a-7d7ee17881c7"
      },
      "execution_count": 25,
      "outputs": [
        {
          "output_type": "stream",
          "name": "stdout",
          "text": [
            "matrix are not aligned\n"
          ]
        }
      ]
    },
    {
      "cell_type": "markdown",
      "source": [
        "###Problem 6. Transposition"
      ],
      "metadata": {
        "id": "ezXhLdHopVzo"
      }
    },
    {
      "cell_type": "code",
      "source": [
        "z = d_ndarray.T\n",
        "print(product_of_matrix(z, e_ndarray))\n"
      ],
      "metadata": {
        "colab": {
          "base_uri": "https://localhost:8080/"
        },
        "id": "AY00YnGhpcyc",
        "outputId": "d55fe4ba-bdee-4f44-8e5c-0256bc2b9c61"
      },
      "execution_count": 26,
      "outputs": [
        {
          "output_type": "stream",
          "name": "stdout",
          "text": [
            "[[-12.  12.  44.]\n",
            " [ 15. -15. -55.]\n",
            " [-18.  18.  66.]]\n"
          ]
        }
      ]
    }
  ]
}