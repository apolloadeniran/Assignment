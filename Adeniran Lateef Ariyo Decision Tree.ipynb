{
  "nbformat": 4,
  "nbformat_minor": 0,
  "metadata": {
    "colab": {
      "provenance": [],
      "include_colab_link": true
    },
    "kernelspec": {
      "name": "python3",
      "display_name": "Python 3"
    },
    "language_info": {
      "name": "python"
    }
  },
  "cells": [
    {
      "cell_type": "markdown",
      "metadata": {
        "id": "view-in-github",
        "colab_type": "text"
      },
      "source": [
        "<a href=\"https://colab.research.google.com/github/apolloadeniran/Assignment/blob/main/Adeniran%20Lateef%20Ariyo%20Decision%20Tree.ipynb\" target=\"_parent\"><img src=\"https://colab.research.google.com/assets/colab-badge.svg\" alt=\"Open In Colab\"/></a>"
      ]
    },
    {
      "cell_type": "markdown",
      "source": [
        "# Problem 1"
      ],
      "metadata": {
        "id": "TgOA138-VspH"
      }
    },
    {
      "cell_type": "code",
      "execution_count": null,
      "metadata": {
        "colab": {
          "base_uri": "https://localhost:8080/"
        },
        "id": "23iVqcsRVrJj",
        "outputId": "c0829a05-1c2a-4b2f-9953-b2501a464253"
      },
      "outputs": [
        {
          "output_type": "stream",
          "name": "stdout",
          "text": [
            "Class Samples: [15, 15], Expected Gini Impurity: 0.5, Calculated Gini Impurity: 0.5\n",
            "Class Samples: [15, 15, 15], Expected Gini Impurity: 0.6666666666666666, Calculated Gini Impurity: 0.6666666666666665\n",
            "Class Samples: [18, 12], Expected Gini Impurity: 0.48, Calculated Gini Impurity: 0.48\n",
            "Class Samples: [30, 0], Expected Gini Impurity: 0.0, Calculated Gini Impurity: 0.0\n"
          ]
        }
      ],
      "source": [
        "def calculate_gini_impurity(class_samples):\n",
        "    total_samples = sum(class_samples)\n",
        "    if total_samples == 0:\n",
        "        return 0.0\n",
        "\n",
        "    gini_impurity = 1.0\n",
        "    num_classes = len(class_samples)\n",
        "\n",
        "    for class_count in class_samples:\n",
        "        class_probability = class_count / total_samples\n",
        "        gini_impurity -= (class_probability ** 2)\n",
        "\n",
        "    return gini_impurity\n",
        "\n",
        "# Test the function with the provided examples\n",
        "examples = [\n",
        "    ([15, 15], 0.5),\n",
        "    ([15, 15, 15], 2/3),\n",
        "    ([18, 12], 0.48),\n",
        "    ([30, 0], 0.0)\n",
        "]\n",
        "\n",
        "for example in examples:\n",
        "    class_samples, expected_gini = example\n",
        "    calculated_gini = calculate_gini_impurity(class_samples)\n",
        "    print(f\"Class Samples: {class_samples}, Expected Gini Impurity: {expected_gini}, Calculated Gini Impurity: {calculated_gini}\")\n"
      ]
    },
    {
      "cell_type": "markdown",
      "source": [
        "# Problem 2"
      ],
      "metadata": {
        "id": "6FSx2jh-Vyj1"
      }
    },
    {
      "cell_type": "code",
      "source": [
        "def calculate_information_gain(parent_class_samples, left_class_samples, right_class_samples):\n",
        "    parent_gini = calculate_gini_impurity(parent_class_samples)\n",
        "\n",
        "    total_left_samples = sum(left_class_samples)\n",
        "    total_right_samples = sum(right_class_samples)\n",
        "    total_parent_samples = total_left_samples + total_right_samples\n",
        "\n",
        "    left_gini = calculate_gini_impurity(left_class_samples)\n",
        "    right_gini = calculate_gini_impurity(right_class_samples)\n",
        "\n",
        "    information_gain = parent_gini - ((total_left_samples / total_parent_samples) * left_gini) - ((total_right_samples / total_parent_samples) * right_gini)\n",
        "\n",
        "    return information_gain\n",
        "\n",
        "# Test the function with the provided example\n",
        "left_samples = [10, 30]\n",
        "right_samples = [20, 5]\n",
        "parent_samples = [sum(x) for x in zip(left_samples, right_samples)]\n",
        "\n",
        "information_gain = calculate_information_gain(parent_samples, left_samples, right_samples)\n",
        "print(\"Information Gain:\", information_gain)\n"
      ],
      "metadata": {
        "colab": {
          "base_uri": "https://localhost:8080/"
        },
        "id": "FSeRRxfaVxgG",
        "outputId": "7822abfc-e29f-442d-bbd6-f27e9c4784d1"
      },
      "execution_count": null,
      "outputs": [
        {
          "output_type": "stream",
          "name": "stdout",
          "text": [
            "Information Gain: 0.14319526627218943\n"
          ]
        }
      ]
    },
    {
      "cell_type": "markdown",
      "source": [
        "# Problem 3"
      ],
      "metadata": {
        "id": "OGhXXyzyV_09"
      }
    },
    {
      "cell_type": "code",
      "source": [
        "import numpy as np\n",
        "import matplotlib.pyplot as plt\n",
        "\n",
        "def calculate_gini_impurity(class_samples):\n",
        "    total_samples = sum(class_samples)\n",
        "    if total_samples == 0:\n",
        "        return 0.0\n",
        "\n",
        "    gini_impurity = 1.0\n",
        "    num_classes = len(class_samples)\n",
        "\n",
        "    for class_count in class_samples:\n",
        "        class_probability = class_count / total_samples\n",
        "        gini_impurity -= (class_probability ** 2)\n",
        "\n",
        "    return gini_impurity\n",
        "\n",
        "def calculate_information_gain(parent_class_samples, left_class_samples, right_class_samples):\n",
        "    parent_gini = calculate_gini_impurity(parent_class_samples)\n",
        "\n",
        "    total_left_samples = sum(left_class_samples)\n",
        "    total_right_samples = sum(right_class_samples)\n",
        "    total_parent_samples = total_left_samples + total_right_samples\n",
        "\n",
        "    left_gini = calculate_gini_impurity(left_class_samples)\n",
        "    right_gini = calculate_gini_impurity(right_class_samples)\n",
        "\n",
        "    information_gain = parent_gini - ((total_left_samples / total_parent_samples) * left_gini) - ((total_right_samples / total_parent_samples) * right_gini)\n",
        "\n",
        "    return information_gain\n",
        "\n",
        "# Generate synthetic dataset for demonstration\n",
        "np.random.seed(0)\n",
        "X = np.random.rand(100, 2)  # Random 2D points\n",
        "y = (X[:, 0] + X[:, 1] > 1).astype(int)  # Decision boundary at x + y = 1\n",
        "\n",
        "# Split feature space and calculate information gain for all possible splits\n",
        "best_feature_idx = None\n",
        "best_threshold = None\n",
        "best_information_gain = -1\n",
        "\n",
        "for feature_idx in range(X.shape[1]):\n",
        "    thresholds = np.unique(X[:, feature_idx])\n",
        "    for threshold in thresholds:\n",
        "        left_indices = np.where(X[:, feature_idx] <= threshold)[0]\n",
        "        right_indices = np.where(X[:, feature_idx] > threshold)[0]\n",
        "\n",
        "        left_class_counts = np.bincount(y[left_indices], minlength=2)\n",
        "        right_class_counts = np.bincount(y[right_indices], minlength=2)\n",
        "        parent_class_counts = np.bincount(y, minlength=2)\n",
        "\n",
        "        information_gain = calculate_information_gain(parent_class_counts, left_class_counts, right_class_counts)\n",
        "\n",
        "        if information_gain > best_information_gain:\n",
        "            best_information_gain = information_gain\n",
        "            best_feature_idx = feature_idx\n",
        "            best_threshold = threshold\n",
        "\n",
        "# Plot the decision boundary\n",
        "plt.scatter(X[:, 0], X[:, 1], c=y, cmap='coolwarm', edgecolors='k', s=50)\n",
        "plt.axvline(x=best_threshold, color='gray', linestyle='--', label=f'Best Threshold: {best_threshold:.2f}')\n",
        "plt.xlabel('Feature 1')\n",
        "plt.ylabel('Feature 2')\n",
        "plt.title('Decision Tree with Depth 1')\n",
        "plt.legend()\n",
        "plt.show()\n",
        "\n",
        "print(\"Best Feature Index:\", best_feature_idx)\n",
        "print(\"Best Threshold:\", best_threshold)\n",
        "print(\"Best Information Gain:\", best_information_gain)\n"
      ],
      "metadata": {
        "colab": {
          "base_uri": "https://localhost:8080/",
          "height": 524
        },
        "id": "o2RutQtMWF6H",
        "outputId": "b1ee7676-0521-4902-9f4b-4566491bf4c6"
      },
      "execution_count": null,
      "outputs": [
        {
          "output_type": "display_data",
          "data": {
            "text/plain": [
              "<Figure size 640x480 with 1 Axes>"
            ],
            "image/png": "[encoded data removed]"
          },
          "metadata": {}
        },
        {
          "output_type": "stream",
          "name": "stdout",
          "text": [
            "Best Feature Index: 1\n",
            "Best Threshold: 0.3637107709426226\n",
            "Best Information Gain: 0.21451249999999997\n"
          ]
        }
      ]
    },
    {
      "cell_type": "markdown",
      "source": [
        "# Problem 4"
      ],
      "metadata": {
        "id": "ZLFm1QJzWGae"
      }
    },
    {
      "cell_type": "code",
      "source": [
        "\n",
        "class ScratchDecisionTreeClassifierDepth1:\n",
        "    def _init_(self):\n",
        "        self.best_feature_idx = None\n",
        "        self.best_threshold = None\n",
        "        self.left_class = None\n",
        "        self.right_class = None\n",
        "\n",
        "    def fit(self, X, y):\n",
        "        best_information_gain = -1\n",
        "\n",
        "        for feature_idx in range(X.shape[1]):\n",
        "            thresholds = np.unique(X[:, feature_idx])\n",
        "            for threshold in thresholds:\n",
        "                left_indices = np.where(X[:, feature_idx] <= threshold)[0]\n",
        "                right_indices = np.where(X[:, feature_idx] > threshold)[0]\n",
        "\n",
        "                left_class_counts = np.bincount(y[left_indices], minlength=2)\n",
        "                right_class_counts = np.bincount(y[right_indices], minlength=2)\n",
        "                parent_class_counts = np.bincount(y, minlength=2)\n",
        "\n",
        "                information_gain = calculate_information_gain(parent_class_counts, left_class_counts, right_class_counts)\n",
        "\n",
        "                if information_gain > best_information_gain:\n",
        "                    best_information_gain = information_gain\n",
        "                    self.best_feature_idx = feature_idx\n",
        "                    self.best_threshold = threshold\n",
        "                    self.left_class = np.argmax(left_class_counts)\n",
        "                    self.right_class = np.argmax(right_class_counts)\n",
        "\n",
        "    def predict(self, X):\n",
        "        predicted_classes = []\n",
        "        for sample in X:\n",
        "            if sample[self.best_feature_idx] <= self.best_threshold:\n",
        "                predicted_classes.append(self.left_class)\n",
        "            else:\n",
        "                predicted_classes.append(self.right_class)\n",
        "        return np.array(predicted_classes)\n",
        "\n",
        "# Example usage:\n",
        "# Initialize and fit the model\n",
        "model = ScratchDecisionTreeClassifierDepth1()\n",
        "X_train = np.array([[1, 2], [2, 3], [3, 4], [4, 5]])\n",
        "y_train = np.array([0, 1, 0, 1])\n",
        "model.fit(X_train, y_train)\n",
        "\n",
        "# Predict using the trained model\n",
        "X_test = np.array([[1.5, 2.5], [3.5, 4.5]])\n",
        "predictions = model.predict(X_test)\n",
        "print(\"Predictions:\", predictions)"
      ],
      "metadata": {
        "colab": {
          "base_uri": "https://localhost:8080/"
        },
        "id": "XrLHSk9VWL0v",
        "outputId": "c2c08385-0266-4afb-aee0-d115c165ef44"
      },
      "execution_count": null,
      "outputs": [
        {
          "output_type": "stream",
          "name": "stdout",
          "text": [
            "Predictions: [1 1]\n"
          ]
        }
      ]
    },
    {
      "cell_type": "markdown",
      "source": [
        "# Problem 5"
      ],
      "metadata": {
        "id": "Zk5Wc6IDWMjN"
      }
    },
    {
      "cell_type": "code",
      "source": [
        "import numpy as np\n",
        "import pandas as pd\n",
        "from sklearn.datasets import load_iris\n",
        "from sklearn.model_selection import train_test_split\n",
        "from sklearn.metrics import accuracy_score, precision_score, recall_score\n",
        "\n",
        "# Load the Iris dataset and split into training and test sets\n",
        "iris_dataset = load_iris()\n",
        "X_train, X_test, y_train, y_test = train_test_split(iris_dataset['data'], iris_dataset['target'], test_size=0.3, random_state=0)\n",
        "\n",
        "# Instantiate the scratch decision tree classifier and fit it to the training data\n",
        "clf = ScratchDecisionTreeClassifierDepth1()\n",
        "clf.fit(X_train, y_train)\n",
        "\n",
        "# Make predictions on the training data\n",
        "train_prediction = clf.predict(X_train)\n",
        "\n",
        "# Evaluate the model using accuracy, precision, and recall\n",
        "accuracy = accuracy_score(y_train, train_prediction)\n",
        "precision = precision_score(y_train, train_prediction, average='macro')\n",
        "recall = recall_score(y_train, train_prediction, average='macro')\n",
        "\n",
        "# Output the evaluation results\n",
        "print(\"Accuracy:\", accuracy)\n",
        "print(\"Precision:\", precision)\n",
        "print(\"Recall:\", recall)\n"
      ],
      "metadata": {
        "colab": {
          "base_uri": "https://localhost:8080/"
        },
        "id": "mSzgknJQkuC5",
        "outputId": "c1e4b389-21cd-4119-be39-61ff3b981b13"
      },
      "execution_count": null,
      "outputs": [
        {
          "output_type": "stream",
          "name": "stdout",
          "text": [
            "Accuracy: 0.6952380952380952\n",
            "Precision: 0.5164319248826291\n",
            "Recall: 0.6666666666666666\n"
          ]
        },
        {
          "output_type": "stream",
          "name": "stderr",
          "text": [
            "/usr/local/lib/python3.10/dist-packages/sklearn/metrics/_classification.py:1344: UndefinedMetricWarning: Precision is ill-defined and being set to 0.0 in labels with no predicted samples. Use `zero_division` parameter to control this behavior.\n",
            "  _warn_prf(average, modifier, msg_start, len(result))\n"
          ]
        }
      ]
    },
    {
      "cell_type": "markdown",
      "source": [
        "# Problem 6"
      ],
      "metadata": {
        "id": "L31ZD9zwWQgj"
      }
    },
    {
      "cell_type": "code",
      "source": [
        "import numpy as np\n",
        "import matplotlib.pyplot as plt\n",
        "\n",
        "def plot_decision_boundary(X, y, classifier):\n",
        "    # Define the range of the feature space\n",
        "    x_min, x_max = X[:, 0].min() - 1, X[:, 0].max() + 1\n",
        "    y_min, y_max = X[:, 1].min() - 1, X[:, 1].max() + 1\n",
        "    xx, yy = np.meshgrid(np.arange(x_min, x_max, 0.01),\n",
        "                         np.arange(y_min, y_max, 0.01))\n",
        "\n",
        "    # Predict the class labels for each point in the grid\n",
        "    Z = classifier.predict(np.c_[xx.ravel(), yy.ravel()])\n",
        "    Z = Z.reshape(xx.shape)\n",
        "\n",
        "    # Plot the decision boundary and the data points\n",
        "    plt.contourf(xx, yy, Z, alpha=0.8)\n",
        "    plt.scatter(X[:, 0], X[:, 1], c=y, cmap=plt.cm.coolwarm, s=20, edgecolors='k')\n",
        "    plt.xlabel('Feature 1')\n",
        "    plt.ylabel('Feature 2')\n",
        "    plt.title('Decision Boundary')\n",
        "    plt.show()\n",
        "\n",
        "# Example usage:\n",
        "# Assuming you have trained your classifier and have X_train and y_train\n",
        "# Replace 'model' with your trained classifier\n",
        "plot_decision_boundary(X_train, y_train, model)\n"
      ],
      "metadata": {
        "colab": {
          "base_uri": "https://localhost:8080/",
          "height": 472
        },
        "id": "fVM5_Lx9WU_8",
        "outputId": "69b4584a-a819-4d40-e2f1-db3f0009a942"
      },
      "execution_count": null,
      "outputs": [
        {
          "output_type": "display_data",
          "data": {
            "text/plain": [
              "<Figure size 640x480 with 1 Axes>"
            ],
            "image/png": "[encoded data removed]"
          },
          "metadata": {}
        }
      ]
    },
    {
      "cell_type": "markdown",
      "source": [
        "# Problem 7"
      ],
      "metadata": {
        "id": "4zmbvNQ8WVe0"
      }
    },
    {
      "cell_type": "code",
      "source": [
        "import numpy as np\n",
        "\n",
        "class ScratchDecisionTreeClassifierDepth2:\n",
        "    def _init_(self):\n",
        "        self.left_tree = None\n",
        "        self.right_tree = None\n",
        "        self.feature_idx = None\n",
        "        self.threshold = None\n",
        "        self.left_class = None\n",
        "        self.right_class = None\n",
        "\n",
        "    def fit(self, X, y, depth=2):\n",
        "        if depth == 0 or len(np.unique(y)) == 1:\n",
        "            self.left_class = np.argmax(np.bincount(y))\n",
        "            self.right_class = np.argmax(np.bincount(y))\n",
        "            return\n",
        "\n",
        "        best_information_gain = -1\n",
        "\n",
        "        for feature_idx in range(X.shape[1]):\n",
        "            thresholds = np.unique(X[:, feature_idx])\n",
        "            for threshold in thresholds:\n",
        "                left_indices = np.where(X[:, feature_idx] <= threshold)[0]\n",
        "                right_indices = np.where(X[:, feature_idx] > threshold)[0]\n",
        "\n",
        "                left_class_counts = np.bincount(y[left_indices], minlength=2)\n",
        "                right_class_counts = np.bincount(y[right_indices], minlength=2)\n",
        "                parent_class_counts = np.bincount(y, minlength=2)\n",
        "\n",
        "                information_gain = self._calculate_information_gain(parent_class_counts, left_class_counts, right_class_counts)\n",
        "\n",
        "                if information_gain > best_information_gain:\n",
        "                    best_information_gain = information_gain\n",
        "                    self.feature_idx = feature_idx\n",
        "                    self.threshold = threshold\n",
        "\n",
        "                    self.left_tree = ScratchDecisionTreeClassifierDepth2()\n",
        "                    self.right_tree = ScratchDecisionTreeClassifierDepth2()\n",
        "                    self.left_tree.fit(X[left_indices], y[left_indices], depth - 1)\n",
        "                    self.right_tree.fit(X[right_indices], y[right_indices], depth - 1)\n",
        "\n",
        "    def _calculate_gini_impurity(self, class_samples):\n",
        "        total_samples = sum(class_samples)\n",
        "        if total_samples == 0:\n",
        "            return 0.0\n",
        "\n",
        "        gini_impurity = 1.0\n",
        "        num_classes = len(class_samples)\n",
        "\n",
        "        for class_count in class_samples:\n",
        "            class_probability = class_count / total_samples\n",
        "            gini_impurity -= (class_probability ** 2)\n",
        "\n",
        "        return gini_impurity\n",
        "\n",
        "    def _calculate_information_gain(self, parent_class_samples, left_class_samples, right_class_samples):\n",
        "        parent_gini = self._calculate_gini_impurity(parent_class_samples)\n",
        "\n",
        "        total_left_samples = sum(left_class_samples)\n",
        "        total_right_samples = sum(right_class_samples)\n",
        "        total_parent_samples = total_left_samples + total_right_samples\n",
        "\n",
        "        left_gini = self._calculate_gini_impurity(left_class_samples)\n",
        "        right_gini = self._calculate_gini_impurity(right_class_samples)\n",
        "\n",
        "        information_gain = parent_gini - ((total_left_samples / total_parent_samples) * left_gini) - ((total_right_samples / total_parent_samples) * right_gini)\n",
        "\n",
        "        return information_gain\n",
        "\n",
        "    def predict(self, X):\n",
        "        predicted_classes = []\n",
        "        for sample in X:\n",
        "            if sample[self.feature_idx] <= self.threshold:\n",
        "                if self.left_tree is not None:\n",
        "                    predicted_class = self.left_tree.predict([sample])[0]\n",
        "                else:\n",
        "                    predicted_class = self.left_class\n",
        "            else:\n",
        "                if self.right_tree is not None:\n",
        "                    predicted_class = self.right_tree.predict([sample])[0]\n",
        "                else:\n",
        "                    predicted_class = self.right_class\n",
        "            predicted_classes.append(predicted_class)\n",
        "        return np.array(predicted_classes)\n"
      ],
      "metadata": {
        "id": "Y6ppyrCqWb2J"
      },
      "execution_count": null,
      "outputs": []
    },
    {
      "cell_type": "markdown",
      "source": [
        "# Problem 8"
      ],
      "metadata": {
        "id": "NA-pPBgeWcTW"
      }
    },
    {
      "cell_type": "code",
      "source": [
        "import numpy as np\n",
        "\n",
        "class ScratchDecisionTreeClassifierDepthInf:\n",
        "    def _init_(self, max_depth=None):\n",
        "        self.max_depth = max_depth\n",
        "        self.left_tree = None\n",
        "        self.right_tree = None\n",
        "        self.feature_idx = None\n",
        "        self.threshold = None\n",
        "        self.left_class = None\n",
        "        self.right_class = None\n",
        "\n",
        "    def fit(self, X, y, depth=0):\n",
        "        if self.max_depth is not None and depth >= self.max_depth:\n",
        "            self.left_class = np.argmax(np.bincount(y))\n",
        "            self.right_class = np.argmax(np.bincount(y))\n",
        "            return\n",
        "\n",
        "        if len(np.unique(y)) == 1:\n",
        "            self.left_class = y[0]\n",
        "            self.right_class = y[0]\n",
        "            return\n",
        "\n",
        "        best_information_gain = -1\n",
        "\n",
        "        for feature_idx in range(X.shape[1]):\n",
        "            thresholds = np.unique(X[:, feature_idx])\n",
        "            for threshold in thresholds:\n",
        "                left_indices = np.where(X[:, feature_idx] <= threshold)[0]\n",
        "                right_indices = np.where(X[:, feature_idx] > threshold)[0]\n",
        "\n",
        "                left_class_counts = np.bincount(y[left_indices], minlength=2)\n",
        "                right_class_counts = np.bincount(y[right_indices], minlength=2)\n",
        "                parent_class_counts = np.bincount(y, minlength=2)\n",
        "\n",
        "                information_gain = self._calculate_information_gain(parent_class_counts, left_class_counts, right_class_counts)\n",
        "\n",
        "                if information_gain > best_information_gain:\n",
        "                    best_information_gain = information_gain\n",
        "                    self.feature_idx = feature_idx\n",
        "                    self.threshold = threshold\n",
        "\n",
        "                    self.left_tree = ScratchDecisionTreeClassifierDepthInf(max_depth=self.max_depth)\n",
        "                    self.right_tree = ScratchDecisionTreeClassifierDepthInf(max_depth=self.max_depth)\n",
        "                    self.left_tree.fit(X[left_indices], y[left_indices], depth + 1)\n",
        "                    self.right_tree.fit(X[right_indices], y[right_indices], depth + 1)\n",
        "\n",
        "    def _calculate_gini_impurity(self, class_samples):\n",
        "        total_samples = sum(class_samples)\n",
        "        if total_samples == 0:\n",
        "            return 0.0\n",
        "\n",
        "        gini_impurity = 1.0\n",
        "        num_classes = len(class_samples)\n",
        "\n",
        "        for class_count in class_samples:\n",
        "            class_probability = class_count / total_samples\n",
        "            gini_impurity -= (class_probability ** 2)\n",
        "\n",
        "        return gini_impurity\n",
        "\n",
        "    def _calculate_information_gain(self, parent_class_samples, left_class_samples, right_class_samples):\n",
        "        parent_gini = self._calculate_gini_impurity(parent_class_samples)\n",
        "\n",
        "        total_left_samples = sum(left_class_samples)\n",
        "        total_right_samples = sum(right_class_samples)\n",
        "        total_parent_samples = total_left_samples + total_right_samples\n",
        "\n",
        "        left_gini = self._calculate_gini_impurity(left_class_samples)\n",
        "        right_gini = self._calculate_gini_impurity(right_class_samples)\n",
        "\n",
        "        information_gain = parent_gini - ((total_left_samples / total_parent_samples) * left_gini) - ((total_right_samples / total_parent_samples) * right_gini)\n",
        "\n",
        "        return information_gain\n",
        "\n",
        "    def predict(self, X):\n",
        "        predicted_classes = []\n",
        "        for sample in X:\n",
        "            if sample[self.feature_idx] <= self.threshold:\n",
        "                if self.left_tree is not None:\n",
        "                    predicted_class = self.left_tree.predict([sample])[0]\n",
        "                else:\n",
        "                    predicted_class = self.left_class\n",
        "            else:\n",
        "                if self.right_tree is not None:\n",
        "                    predicted_class = self.right_tree.predict([sample])[0]\n",
        "                else:\n",
        "                    predicted_class = self.right_class\n",
        "            predicted_classes.append(predicted_class)\n",
        "        return np.array(predicted_classes)"
      ],
      "metadata": {
        "id": "YchlxuaMWfyk"
      },
      "execution_count": null,
      "outputs": []
    }
  ]
}