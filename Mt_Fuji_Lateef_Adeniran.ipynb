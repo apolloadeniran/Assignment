{
  "nbformat": 4,
  "nbformat_minor": 0,
  "metadata": {
    "colab": {
      "provenance": [],
      "authorship_tag": "ABX9TyOkJS21sp+NL0R6gWc/CDUV",
      "include_colab_link": true
    },
    "kernelspec": {
      "name": "python3",
      "display_name": "Python 3"
    },
    "language_info": {
      "name": "python"
    }
  },
  "cells": [
    {
      "cell_type": "markdown",
      "metadata": {
        "id": "view-in-github",
        "colab_type": "text"
      },
      "source": [
        "<a href=\"https://colab.research.google.com/github/apolloadeniran/Assignment/blob/main/Mt_Fuji_Lateef_Adeniran.ipynb\" target=\"_parent\"><img src=\"https://colab.research.google.com/assets/colab-badge.svg\" alt=\"Open In Colab\"/></a>"
      ]
    },
    {
      "cell_type": "markdown",
      "source": [
        "###Problem 1. How many times to fold paper to exceed the height of Mt.Fuji?"
      ],
      "metadata": {
        "id": "eAeVUmGNmtqv"
      }
    },
    {
      "cell_type": "code",
      "source": [
        "THICKNES = 0.00008\n",
        "MT_FUJI = 3776\n",
        "fold_times = 1\n",
        "current_thickness = 0\n",
        "while (current_thickness < 3776):\n",
        "  current_thickness = THICKNES*(2**fold_times)\n",
        "  fold_times+=1\n",
        "print(\"exceeded the height of Mt Fuji on fold\",fold_times )"
      ],
      "metadata": {
        "colab": {
          "base_uri": "https://localhost:8080/"
        },
        "id": "nJ3yJlokmyG2",
        "outputId": "cef9a80b-4674-45a3-ea34-b917f77785f5"
      },
      "execution_count": 44,
      "outputs": [
        {
          "output_type": "stream",
          "name": "stdout",
          "text": [
            "exceeded the height of Mt Fuji on fold 27\n"
          ]
        }
      ]
    },
    {
      "cell_type": "markdown",
      "source": [
        "###Problem 2. Function corresponding to arbitrary thickness"
      ],
      "metadata": {
        "id": "ViPtxCgBtSDi"
      }
    },
    {
      "cell_type": "code",
      "source": [
        "CLOSEST_NON_SUN_STAR = 4.5\n",
        "LIGHT_YEAR = 9.5\n",
        "DISTANCE = (4.5*9.5)*10000000000000\n",
        "def calculate_folds_from_distance(distance):\n",
        "  problem2_fold_times = 1\n",
        "  problem2_current_thickness = 0\n",
        "  while ((problem2_current_thickness//1000) < distance):\n",
        "    problem2_current_thickness = THICKNES*(2**problem2_fold_times)\n",
        "    problem2_fold_times+=1\n",
        "  return  problem2_fold_times\n",
        "\n",
        "print(\"reach the closeset non sun star on the []th fold\",format(calculate_folds_from_distance(DISTANCE)))"
      ],
      "metadata": {
        "colab": {
          "base_uri": "https://localhost:8080/"
        },
        "id": "4TXX1CvStWpB",
        "outputId": "712d2488-ee99-4a56-e349-996c8de94758"
      },
      "execution_count": 45,
      "outputs": [
        {
          "output_type": "stream",
          "name": "stdout",
          "text": [
            "reach the closeset non sun star on the []th fold 74\n"
          ]
        }
      ]
    },
    {
      "cell_type": "markdown",
      "source": [
        "###Problem 3. Required paper length"
      ],
      "metadata": {
        "id": "sacf-r_03umd"
      }
    },
    {
      "cell_type": "code",
      "source": [
        "def calculate_lenght_of_paper_from_folds(folds):\n",
        "  PROBLEM3_THICKNES = 0.00008\n",
        "  DISTANCE_TO_THE_MOON = 384400*1000\n",
        "  lenght = (PROBLEM3_THICKNES/6)*((2**folds)+4)*(2**folds-1)\n",
        "  return lenght\n",
        "DISTANCE_TO_THE_MOON = 384400*1000\n",
        "print(\"the lenght of paper needed to be folded to reach the moon is []m\",format(calculate_lenght_of_paper_from_folds(calculate_folds_from_distance( DISTANCE_TO_THE_MOON))))\n",
        "print(\"the lenght of paper needed to be folded to reach Mt Fuji is []m\",format(calculate_lenght_of_paper_from_folds(calculate_folds_from_distance(MT_FUJI))))\n",
        "print(\"the lenght of paper needed to be folded to reach non sun star is []m\",format(calculate_lenght_of_paper_from_folds(calculate_folds_from_distance(DISTANCE))))\n",
        "\n"
      ],
      "metadata": {
        "colab": {
          "base_uri": "https://localhost:8080/"
        },
        "id": "vzBb_LfW32mo",
        "outputId": "da271211-79c6-4385-ae56-31a362064135"
      },
      "execution_count": 50,
      "outputs": [
        {
          "output_type": "stream",
          "name": "stdout",
          "text": [
            "the lenght of paper needed to be folded to reach the moon is []m 4.3269140487790247e+27\n",
            "the lenght of paper needed to be folded to reach Mt Fuji is []m 2.5185954575854534e+17\n",
            "the lenght of paper needed to be folded to reach non sun star is []m 4.757492309019867e+39\n"
          ]
        }
      ]
    },
    {
      "cell_type": "markdown",
      "source": [],
      "metadata": {
        "id": "ArpVMCfU3oRw"
      }
    }
  ]
}