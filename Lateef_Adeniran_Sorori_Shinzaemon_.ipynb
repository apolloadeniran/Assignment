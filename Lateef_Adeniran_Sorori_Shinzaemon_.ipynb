{
  "nbformat": 4,
  "nbformat_minor": 0,
  "metadata": {
    "colab": {
      "provenance": [],
      "authorship_tag": "ABX9TyPFvyYK7+LWN8WfpbHcoLIR",
      "include_colab_link": true
    },
    "kernelspec": {
      "name": "python3",
      "display_name": "Python 3"
    },
    "language_info": {
      "name": "python"
    }
  },
  "cells": [
    {
      "cell_type": "markdown",
      "metadata": {
        "id": "view-in-github",
        "colab_type": "text"
      },
      "source": [
        "<a href=\"https://colab.research.google.com/github/apolloadeniran/Assignment/blob/main/Lateef_Adeniran_Sorori_Shinzaemon_.ipynb\" target=\"_parent\"><img src=\"https://colab.research.google.com/assets/colab-badge.svg\" alt=\"Open In Colab\"/></a>"
      ]
    },
    {
      "cell_type": "markdown",
      "source": [],
      "metadata": {
        "id": "TBcyky3oDmqu"
      }
    },
    {
      "cell_type": "markdown",
      "source": [
        "##Problem 1 Number of grains of rice on the 100th day"
      ],
      "metadata": {
        "id": "cPV3mOoLDpq1"
      }
    },
    {
      "cell_type": "code",
      "source": [
        "grain = 1\n",
        "grain_per_day = []\n",
        "for day in range(100):\n",
        "  if day == 0:\n",
        "   grain_per_day.append(grain)\n",
        "  else:\n",
        "    grain_per_day.append((grain*2)**day)"
      ],
      "metadata": {
        "id": "9ixwtWEHD4yC"
      },
      "execution_count": 2,
      "outputs": []
    },
    {
      "cell_type": "code",
      "source": [
        "print(\"total rice grain after 100 day: \", sum(grain_per_day))"
      ],
      "metadata": {
        "colab": {
          "base_uri": "https://localhost:8080/"
        },
        "id": "nNywGINBlYIp",
        "outputId": "fc84c7c4-2f55-46e9-c949-f3d3b1c98d87"
      },
      "execution_count": 3,
      "outputs": [
        {
          "output_type": "stream",
          "name": "stdout",
          "text": [
            "total rice grain after 100 day:  1267650600228229401496703205375\n"
          ]
        }
      ]
    },
    {
      "cell_type": "code",
      "source": [
        "import matplotlib.pyplot as plt\n",
        "%matplotlib inline\n",
        "plt.title(\"grain per day\")\n",
        "plt.xlabel(\"days\")\n",
        "plt.ylabel(\"grains\")\n",
        "plt.plot(grain_per_day)\n",
        "plt.show()"
      ],
      "metadata": {
        "colab": {
          "base_uri": "https://localhost:8080/",
          "height": 472
        },
        "id": "5InjTxTNiSEu",
        "outputId": "c5e7780b-5bd6-4bbb-ed91-cc11e8108d19"
      },
      "execution_count": 4,
      "outputs": [
        {
          "output_type": "display_data",
          "data": {
            "text/plain": [
              "<Figure size 640x480 with 1 Axes>"
            ],
            "image/png": "[encoded data removed]"
          },
          "metadata": {}
        }
      ]
    },
    {
      "cell_type": "markdown",
      "source": [
        "###Problem 2 Number of rice grains outside of the 100th day"
      ],
      "metadata": {
        "id": "80IiDAtNq626"
      }
    },
    {
      "cell_type": "code",
      "source": [
        "def compute_grains_per_days(days=100):\n",
        "  grain = 1\n",
        "  grain_per_day = []\n",
        "  for day in range(100):\n",
        "   if day == 0:\n",
        "    grain_per_day.append(grain)\n",
        "   else:\n",
        "    grain_per_day.append((grain*2)**day)\n",
        "  print(\"total rice grain after: \", sum(grain_per_day))"
      ],
      "metadata": {
        "id": "UmSz3_qjq-XT"
      },
      "execution_count": 27,
      "outputs": []
    },
    {
      "cell_type": "code",
      "source": [
        "compute_grains_per_days(80)"
      ],
      "metadata": {
        "colab": {
          "base_uri": "https://localhost:8080/"
        },
        "id": "O9TWuhwLY7vK",
        "outputId": "033a2a48-5379-4c21-d58e-bda499fbbb07"
      },
      "execution_count": 29,
      "outputs": [
        {
          "output_type": "stream",
          "name": "stdout",
          "text": [
            "total rice grain after:  1267650600228229401496703205375\n"
          ]
        }
      ]
    },
    {
      "cell_type": "markdown",
      "source": [
        "###Problem *3* How many people can live for how many days with the rice we get?"
      ],
      "metadata": {
        "id": "urzmVnfsce8f"
      }
    },
    {
      "cell_type": "code",
      "source": [
        "grains_in_a_bowl = 44000\n",
        "grain_per_day = grains_in_a_bowl*2\n",
        "def compute_how_many_days(people, grains):\n",
        "  total_grain_day = people*grain_per_day\n",
        "  days = grains/total_grain_day\n",
        "  print(\"how many days\",days)\n",
        "\n",
        "compute_how_many_days(4, 1000000000000000)\n"
      ],
      "metadata": {
        "colab": {
          "base_uri": "https://localhost:8080/"
        },
        "id": "U6E-8dJNciVx",
        "outputId": "cedffca8-416d-40d8-9855-a0e3a8ac6755"
      },
      "execution_count": 36,
      "outputs": [
        {
          "output_type": "stream",
          "name": "stdout",
          "text": [
            "how many days 2840909090.909091\n"
          ]
        }
      ]
    }
  ]
}